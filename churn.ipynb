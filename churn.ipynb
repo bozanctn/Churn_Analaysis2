{
 "cells": [
  {
   "cell_type": "code",
   "execution_count": 18,
   "metadata": {},
   "outputs": [],
   "source": [
    "import pandas as pd \n",
    "from matplotlib import pyplot as plt\n",
    "import numpy as np \n",
    "%matplotlib inline"
   ]
  },
  {
   "cell_type": "code",
   "execution_count": 19,
   "metadata": {},
   "outputs": [
    {
     "data": {
      "text/html": [
       "<div>\n",
       "<style scoped>\n",
       "    .dataframe tbody tr th:only-of-type {\n",
       "        vertical-align: middle;\n",
       "    }\n",
       "\n",
       "    .dataframe tbody tr th {\n",
       "        vertical-align: top;\n",
       "    }\n",
       "\n",
       "    .dataframe thead th {\n",
       "        text-align: right;\n",
       "    }\n",
       "</style>\n",
       "<table border=\"1\" class=\"dataframe\">\n",
       "  <thead>\n",
       "    <tr style=\"text-align: right;\">\n",
       "      <th></th>\n",
       "      <th>account length</th>\n",
       "      <th>area code</th>\n",
       "      <th>international plan</th>\n",
       "      <th>voice mail plan</th>\n",
       "      <th>number vmail messages</th>\n",
       "      <th>total day minutes</th>\n",
       "      <th>total day calls</th>\n",
       "      <th>total day charge</th>\n",
       "      <th>total eve minutes</th>\n",
       "      <th>total eve calls</th>\n",
       "      <th>total eve charge</th>\n",
       "      <th>total night minutes</th>\n",
       "      <th>total night calls</th>\n",
       "      <th>total night charge</th>\n",
       "      <th>total intl minutes</th>\n",
       "      <th>total intl calls</th>\n",
       "      <th>total intl charge</th>\n",
       "      <th>customer service calls</th>\n",
       "      <th>churn</th>\n",
       "    </tr>\n",
       "  </thead>\n",
       "  <tbody>\n",
       "    <tr>\n",
       "      <th>0</th>\n",
       "      <td>128</td>\n",
       "      <td>415</td>\n",
       "      <td>no</td>\n",
       "      <td>yes</td>\n",
       "      <td>25</td>\n",
       "      <td>265.1</td>\n",
       "      <td>110</td>\n",
       "      <td>45.07</td>\n",
       "      <td>197.4</td>\n",
       "      <td>99</td>\n",
       "      <td>16.78</td>\n",
       "      <td>244.7</td>\n",
       "      <td>91</td>\n",
       "      <td>11.01</td>\n",
       "      <td>10.0</td>\n",
       "      <td>3</td>\n",
       "      <td>2.70</td>\n",
       "      <td>1</td>\n",
       "      <td>False</td>\n",
       "    </tr>\n",
       "    <tr>\n",
       "      <th>1</th>\n",
       "      <td>107</td>\n",
       "      <td>415</td>\n",
       "      <td>no</td>\n",
       "      <td>yes</td>\n",
       "      <td>26</td>\n",
       "      <td>161.6</td>\n",
       "      <td>123</td>\n",
       "      <td>27.47</td>\n",
       "      <td>195.5</td>\n",
       "      <td>103</td>\n",
       "      <td>16.62</td>\n",
       "      <td>254.4</td>\n",
       "      <td>103</td>\n",
       "      <td>11.45</td>\n",
       "      <td>13.7</td>\n",
       "      <td>3</td>\n",
       "      <td>3.70</td>\n",
       "      <td>1</td>\n",
       "      <td>False</td>\n",
       "    </tr>\n",
       "    <tr>\n",
       "      <th>2</th>\n",
       "      <td>137</td>\n",
       "      <td>415</td>\n",
       "      <td>no</td>\n",
       "      <td>no</td>\n",
       "      <td>0</td>\n",
       "      <td>243.4</td>\n",
       "      <td>114</td>\n",
       "      <td>41.38</td>\n",
       "      <td>121.2</td>\n",
       "      <td>110</td>\n",
       "      <td>10.30</td>\n",
       "      <td>162.6</td>\n",
       "      <td>104</td>\n",
       "      <td>7.32</td>\n",
       "      <td>12.2</td>\n",
       "      <td>5</td>\n",
       "      <td>3.29</td>\n",
       "      <td>0</td>\n",
       "      <td>False</td>\n",
       "    </tr>\n",
       "    <tr>\n",
       "      <th>3</th>\n",
       "      <td>84</td>\n",
       "      <td>408</td>\n",
       "      <td>yes</td>\n",
       "      <td>no</td>\n",
       "      <td>0</td>\n",
       "      <td>299.4</td>\n",
       "      <td>71</td>\n",
       "      <td>50.90</td>\n",
       "      <td>61.9</td>\n",
       "      <td>88</td>\n",
       "      <td>5.26</td>\n",
       "      <td>196.9</td>\n",
       "      <td>89</td>\n",
       "      <td>8.86</td>\n",
       "      <td>6.6</td>\n",
       "      <td>7</td>\n",
       "      <td>1.78</td>\n",
       "      <td>2</td>\n",
       "      <td>False</td>\n",
       "    </tr>\n",
       "    <tr>\n",
       "      <th>4</th>\n",
       "      <td>75</td>\n",
       "      <td>415</td>\n",
       "      <td>yes</td>\n",
       "      <td>no</td>\n",
       "      <td>0</td>\n",
       "      <td>166.7</td>\n",
       "      <td>113</td>\n",
       "      <td>28.34</td>\n",
       "      <td>148.3</td>\n",
       "      <td>122</td>\n",
       "      <td>12.61</td>\n",
       "      <td>186.9</td>\n",
       "      <td>121</td>\n",
       "      <td>8.41</td>\n",
       "      <td>10.1</td>\n",
       "      <td>3</td>\n",
       "      <td>2.73</td>\n",
       "      <td>3</td>\n",
       "      <td>False</td>\n",
       "    </tr>\n",
       "  </tbody>\n",
       "</table>\n",
       "</div>"
      ],
      "text/plain": [
       "   account length  area code international plan voice mail plan  \\\n",
       "0             128        415                 no             yes   \n",
       "1             107        415                 no             yes   \n",
       "2             137        415                 no              no   \n",
       "3              84        408                yes              no   \n",
       "4              75        415                yes              no   \n",
       "\n",
       "   number vmail messages  total day minutes  total day calls  \\\n",
       "0                     25              265.1              110   \n",
       "1                     26              161.6              123   \n",
       "2                      0              243.4              114   \n",
       "3                      0              299.4               71   \n",
       "4                      0              166.7              113   \n",
       "\n",
       "   total day charge  total eve minutes  total eve calls  total eve charge  \\\n",
       "0             45.07              197.4               99             16.78   \n",
       "1             27.47              195.5              103             16.62   \n",
       "2             41.38              121.2              110             10.30   \n",
       "3             50.90               61.9               88              5.26   \n",
       "4             28.34              148.3              122             12.61   \n",
       "\n",
       "   total night minutes  total night calls  total night charge  \\\n",
       "0                244.7                 91               11.01   \n",
       "1                254.4                103               11.45   \n",
       "2                162.6                104                7.32   \n",
       "3                196.9                 89                8.86   \n",
       "4                186.9                121                8.41   \n",
       "\n",
       "   total intl minutes  total intl calls  total intl charge  \\\n",
       "0                10.0                 3               2.70   \n",
       "1                13.7                 3               3.70   \n",
       "2                12.2                 5               3.29   \n",
       "3                 6.6                 7               1.78   \n",
       "4                10.1                 3               2.73   \n",
       "\n",
       "   customer service calls  churn  \n",
       "0                       1  False  \n",
       "1                       1  False  \n",
       "2                       0  False  \n",
       "3                       2  False  \n",
       "4                       3  False  "
      ]
     },
     "execution_count": 19,
     "metadata": {},
     "output_type": "execute_result"
    }
   ],
   "source": [
    "df = pd.read_csv(\"churn.csv\")\n",
    "\n",
    "df.drop(\"state\", axis=1, inplace=True)\n",
    "df.drop(\"phone number\", axis=1, inplace=True)\n",
    "\n",
    "df.head()"
   ]
  },
  {
   "cell_type": "code",
   "execution_count": 20,
   "metadata": {},
   "outputs": [
    {
     "data": {
      "text/plain": [
       "account length              int64\n",
       "area code                   int64\n",
       "international plan         object\n",
       "voice mail plan            object\n",
       "number vmail messages       int64\n",
       "total day minutes         float64\n",
       "total day calls             int64\n",
       "total day charge          float64\n",
       "total eve minutes         float64\n",
       "total eve calls             int64\n",
       "total eve charge          float64\n",
       "total night minutes       float64\n",
       "total night calls           int64\n",
       "total night charge        float64\n",
       "total intl minutes        float64\n",
       "total intl calls            int64\n",
       "total intl charge         float64\n",
       "customer service calls      int64\n",
       "churn                        bool\n",
       "dtype: object"
      ]
     },
     "execution_count": 20,
     "metadata": {},
     "output_type": "execute_result"
    }
   ],
   "source": [
    "df.dtypes"
   ]
  },
  {
   "cell_type": "code",
   "execution_count": 21,
   "metadata": {},
   "outputs": [
    {
     "data": {
      "text/plain": [
       "account length            0\n",
       "area code                 0\n",
       "international plan        0\n",
       "voice mail plan           0\n",
       "number vmail messages     0\n",
       "total day minutes         0\n",
       "total day calls           0\n",
       "total day charge          0\n",
       "total eve minutes         0\n",
       "total eve calls           0\n",
       "total eve charge          0\n",
       "total night minutes       0\n",
       "total night calls         0\n",
       "total night charge        0\n",
       "total intl minutes        0\n",
       "total intl calls          0\n",
       "total intl charge         0\n",
       "customer service calls    0\n",
       "churn                     0\n",
       "dtype: int64"
      ]
     },
     "execution_count": 21,
     "metadata": {},
     "output_type": "execute_result"
    }
   ],
   "source": [
    "df.isnull().sum()"
   ]
  },
  {
   "cell_type": "code",
   "execution_count": 22,
   "metadata": {},
   "outputs": [
    {
     "data": {
      "text/plain": [
       "(3333, 19)"
      ]
     },
     "execution_count": 22,
     "metadata": {},
     "output_type": "execute_result"
    }
   ],
   "source": [
    "df.shape"
   ]
  },
  {
   "cell_type": "code",
   "execution_count": 23,
   "metadata": {},
   "outputs": [
    {
     "data": {
      "text/plain": [
       "<matplotlib.legend.Legend at 0x21979f25190>"
      ]
     },
     "execution_count": 23,
     "metadata": {},
     "output_type": "execute_result"
    },
    {
     "data": {
      "image/png": "[encoded data removed]",
      "text/plain": [
       "<Figure size 640x480 with 1 Axes>"
      ]
     },
     "metadata": {},
     "output_type": "display_data"
    }
   ],
   "source": [
    "tenure_churn_no = df[df[\"churn\"] == False][\"account length\"]\n",
    "tenure_churn_yes = df[df[\"churn\"] == True][\"account length\"]\n",
    "\n",
    "plt.hist([tenure_churn_yes, tenure_churn_no], color= [\"green\", \"red\"], label=[\"churn=True\", \"Churn=False\"])\n",
    "plt.legend()"
   ]
  },
  {
   "cell_type": "code",
   "execution_count": 24,
   "metadata": {},
   "outputs": [],
   "source": [
    "def print_unique_values(df):\n",
    "    for column in df:\n",
    "        if df[column].dtypes == \"object\":\n",
    "            print(f\"{column} : {df[column].unique()}\")\n",
    "            "
   ]
  },
  {
   "cell_type": "code",
   "execution_count": 25,
   "metadata": {},
   "outputs": [
    {
     "name": "stdout",
     "output_type": "stream",
     "text": [
      "international plan : ['no' 'yes']\n",
      "voice mail plan : ['yes' 'no']\n"
     ]
    }
   ],
   "source": [
    "print_unique_values(df)"
   ]
  },
  {
   "cell_type": "code",
   "execution_count": 26,
   "metadata": {},
   "outputs": [
    {
     "name": "stderr",
     "output_type": "stream",
     "text": [
      "C:\\Users\\Ozan\\AppData\\Local\\Temp\\ipykernel_7452\\1404077544.py:2: FutureWarning: Downcasting behavior in `replace` is deprecated and will be removed in a future version. To retain the old behavior, explicitly call `result.infer_objects(copy=False)`. To opt-in to the future behavior, set `pd.set_option('future.no_silent_downcasting', True)`\n",
      "  df.replace(\"yes\", 1, inplace=True)\n"
     ]
    }
   ],
   "source": [
    "df.replace(\"no\" ,0, inplace=True )\n",
    "df.replace(\"yes\", 1, inplace=True)"
   ]
  },
  {
   "cell_type": "code",
   "execution_count": 27,
   "metadata": {},
   "outputs": [],
   "source": [
    "print_unique_values(df)"
   ]
  },
  {
   "cell_type": "code",
   "execution_count": 28,
   "metadata": {},
   "outputs": [],
   "source": [
    "cols_to_scale = [\"account length\"]\n",
    "\n",
    "from sklearn.preprocessing import MinMaxScaler\n",
    "\n",
    "scaler = MinMaxScaler()\n",
    "df[cols_to_scale] = scaler.fit_transform(df[cols_to_scale])\n"
   ]
  },
  {
   "cell_type": "code",
   "execution_count": 29,
   "metadata": {},
   "outputs": [
    {
     "data": {
      "text/html": [
       "<div>\n",
       "<style scoped>\n",
       "    .dataframe tbody tr th:only-of-type {\n",
       "        vertical-align: middle;\n",
       "    }\n",
       "\n",
       "    .dataframe tbody tr th {\n",
       "        vertical-align: top;\n",
       "    }\n",
       "\n",
       "    .dataframe thead th {\n",
       "        text-align: right;\n",
       "    }\n",
       "</style>\n",
       "<table border=\"1\" class=\"dataframe\">\n",
       "  <thead>\n",
       "    <tr style=\"text-align: right;\">\n",
       "      <th></th>\n",
       "      <th>account length</th>\n",
       "      <th>area code</th>\n",
       "      <th>international plan</th>\n",
       "      <th>voice mail plan</th>\n",
       "      <th>number vmail messages</th>\n",
       "      <th>total day minutes</th>\n",
       "      <th>total day calls</th>\n",
       "      <th>total day charge</th>\n",
       "      <th>total eve minutes</th>\n",
       "      <th>total eve calls</th>\n",
       "      <th>total eve charge</th>\n",
       "      <th>total night minutes</th>\n",
       "      <th>total night calls</th>\n",
       "      <th>total night charge</th>\n",
       "      <th>total intl minutes</th>\n",
       "      <th>total intl calls</th>\n",
       "      <th>total intl charge</th>\n",
       "      <th>customer service calls</th>\n",
       "      <th>churn</th>\n",
       "    </tr>\n",
       "  </thead>\n",
       "  <tbody>\n",
       "    <tr>\n",
       "      <th>3258</th>\n",
       "      <td>0.607438</td>\n",
       "      <td>408</td>\n",
       "      <td>0</td>\n",
       "      <td>0</td>\n",
       "      <td>0</td>\n",
       "      <td>243.0</td>\n",
       "      <td>115</td>\n",
       "      <td>41.31</td>\n",
       "      <td>191.8</td>\n",
       "      <td>91</td>\n",
       "      <td>16.30</td>\n",
       "      <td>117.8</td>\n",
       "      <td>93</td>\n",
       "      <td>5.30</td>\n",
       "      <td>13.4</td>\n",
       "      <td>5</td>\n",
       "      <td>3.62</td>\n",
       "      <td>2</td>\n",
       "      <td>False</td>\n",
       "    </tr>\n",
       "    <tr>\n",
       "      <th>1139</th>\n",
       "      <td>0.520661</td>\n",
       "      <td>510</td>\n",
       "      <td>0</td>\n",
       "      <td>0</td>\n",
       "      <td>0</td>\n",
       "      <td>220.2</td>\n",
       "      <td>108</td>\n",
       "      <td>37.43</td>\n",
       "      <td>188.4</td>\n",
       "      <td>124</td>\n",
       "      <td>16.01</td>\n",
       "      <td>172.7</td>\n",
       "      <td>113</td>\n",
       "      <td>7.77</td>\n",
       "      <td>11.7</td>\n",
       "      <td>3</td>\n",
       "      <td>3.16</td>\n",
       "      <td>2</td>\n",
       "      <td>False</td>\n",
       "    </tr>\n",
       "  </tbody>\n",
       "</table>\n",
       "</div>"
      ],
      "text/plain": [
       "      account length  area code  international plan  voice mail plan  \\\n",
       "3258        0.607438        408                   0                0   \n",
       "1139        0.520661        510                   0                0   \n",
       "\n",
       "      number vmail messages  total day minutes  total day calls  \\\n",
       "3258                      0              243.0              115   \n",
       "1139                      0              220.2              108   \n",
       "\n",
       "      total day charge  total eve minutes  total eve calls  total eve charge  \\\n",
       "3258             41.31              191.8               91             16.30   \n",
       "1139             37.43              188.4              124             16.01   \n",
       "\n",
       "      total night minutes  total night calls  total night charge  \\\n",
       "3258                117.8                 93                5.30   \n",
       "1139                172.7                113                7.77   \n",
       "\n",
       "      total intl minutes  total intl calls  total intl charge  \\\n",
       "3258                13.4                 5               3.62   \n",
       "1139                11.7                 3               3.16   \n",
       "\n",
       "      customer service calls  churn  \n",
       "3258                       2  False  \n",
       "1139                       2  False  "
      ]
     },
     "execution_count": 29,
     "metadata": {},
     "output_type": "execute_result"
    }
   ],
   "source": [
    "df.sample(2)"
   ]
  },
  {
   "cell_type": "code",
   "execution_count": 30,
   "metadata": {},
   "outputs": [],
   "source": [
    "from sklearn.model_selection import train_test_split\n",
    "\n",
    "X = df.drop(\"churn\", axis=\"columns\")\n",
    "y = df[\"churn\"]\n",
    "X_train, X_test, y_train, y_test = train_test_split(X, y, test_size=0.2, random_state=5)\n"
   ]
  },
  {
   "cell_type": "code",
   "execution_count": 31,
   "metadata": {},
   "outputs": [
    {
     "data": {
      "text/plain": [
       "18"
      ]
     },
     "execution_count": 31,
     "metadata": {},
     "output_type": "execute_result"
    }
   ],
   "source": [
    "len(X_train.columns)"
   ]
  },
  {
   "cell_type": "code",
   "execution_count": 33,
   "metadata": {},
   "outputs": [
    {
     "name": "stdout",
     "output_type": "stream",
     "text": [
      "Epoch 1/100\n",
      "WARNING:tensorflow:From C:\\Users\\Ozan\\AppData\\Local\\Packages\\PythonSoftwareFoundation.Python.3.11_qbz5n2kfra8p0\\LocalCache\\local-packages\\Python311\\site-packages\\keras\\src\\utils\\tf_utils.py:492: The name tf.ragged.RaggedTensorValue is deprecated. Please use tf.compat.v1.ragged.RaggedTensorValue instead.\n",
      "\n",
      "WARNING:tensorflow:From C:\\Users\\Ozan\\AppData\\Local\\Packages\\PythonSoftwareFoundation.Python.3.11_qbz5n2kfra8p0\\LocalCache\\local-packages\\Python311\\site-packages\\keras\\src\\engine\\base_layer_utils.py:384: The name tf.executing_eagerly_outside_functions is deprecated. Please use tf.compat.v1.executing_eagerly_outside_functions instead.\n",
      "\n",
      "84/84 [==============================] - 1s 1ms/step - loss: 6.2329 - accuracy: 0.7457\n",
      "Epoch 2/100\n",
      "84/84 [==============================] - 0s 1ms/step - loss: 3.2381 - accuracy: 0.7506\n",
      "Epoch 3/100\n",
      "84/84 [==============================] - 0s 1ms/step - loss: 2.1521 - accuracy: 0.7551\n",
      "Epoch 4/100\n",
      "84/84 [==============================] - 0s 891us/step - loss: 1.5964 - accuracy: 0.7686\n",
      "Epoch 5/100\n",
      "84/84 [==============================] - 0s 848us/step - loss: 1.1773 - accuracy: 0.7787\n",
      "Epoch 6/100\n",
      "84/84 [==============================] - 0s 846us/step - loss: 0.7841 - accuracy: 0.7967\n",
      "Epoch 7/100\n",
      "84/84 [==============================] - 0s 881us/step - loss: 0.5569 - accuracy: 0.8181\n",
      "Epoch 8/100\n",
      "84/84 [==============================] - 0s 832us/step - loss: 0.4998 - accuracy: 0.8222\n",
      "Epoch 9/100\n",
      "84/84 [==============================] - 0s 877us/step - loss: 0.4247 - accuracy: 0.8451\n",
      "Epoch 10/100\n",
      "84/84 [==============================] - 0s 878us/step - loss: 0.4377 - accuracy: 0.8327\n",
      "Epoch 11/100\n",
      "84/84 [==============================] - 0s 1ms/step - loss: 0.4502 - accuracy: 0.8335\n",
      "Epoch 12/100\n",
      "84/84 [==============================] - 0s 1ms/step - loss: 0.4424 - accuracy: 0.8338\n",
      "Epoch 13/100\n",
      "84/84 [==============================] - 0s 1ms/step - loss: 0.3813 - accuracy: 0.8537\n",
      "Epoch 14/100\n",
      "84/84 [==============================] - 0s 992us/step - loss: 0.4638 - accuracy: 0.8278\n",
      "Epoch 15/100\n",
      "84/84 [==============================] - 0s 876us/step - loss: 0.4384 - accuracy: 0.8428\n",
      "Epoch 16/100\n",
      "84/84 [==============================] - 0s 845us/step - loss: 0.4138 - accuracy: 0.8440\n",
      "Epoch 17/100\n",
      "84/84 [==============================] - 0s 834us/step - loss: 0.4317 - accuracy: 0.8417\n",
      "Epoch 18/100\n",
      "84/84 [==============================] - 0s 805us/step - loss: 0.3847 - accuracy: 0.8507\n",
      "Epoch 19/100\n",
      "84/84 [==============================] - 0s 834us/step - loss: 0.4374 - accuracy: 0.8417\n",
      "Epoch 20/100\n",
      "84/84 [==============================] - 0s 817us/step - loss: 0.4476 - accuracy: 0.8297\n",
      "Epoch 21/100\n",
      "84/84 [==============================] - 0s 829us/step - loss: 0.4060 - accuracy: 0.8451\n",
      "Epoch 22/100\n",
      "84/84 [==============================] - 0s 836us/step - loss: 0.4185 - accuracy: 0.8398\n",
      "Epoch 23/100\n",
      "84/84 [==============================] - 0s 911us/step - loss: 0.4159 - accuracy: 0.8391\n",
      "Epoch 24/100\n",
      "84/84 [==============================] - 0s 986us/step - loss: 0.4200 - accuracy: 0.8458\n",
      "Epoch 25/100\n",
      "84/84 [==============================] - 0s 1ms/step - loss: 0.3945 - accuracy: 0.8455\n",
      "Epoch 26/100\n",
      "84/84 [==============================] - 0s 900us/step - loss: 0.3966 - accuracy: 0.8500\n",
      "Epoch 27/100\n",
      "84/84 [==============================] - 0s 841us/step - loss: 0.4255 - accuracy: 0.8395\n",
      "Epoch 28/100\n",
      "84/84 [==============================] - 0s 871us/step - loss: 0.4273 - accuracy: 0.8395\n",
      "Epoch 29/100\n",
      "84/84 [==============================] - 0s 1ms/step - loss: 0.4361 - accuracy: 0.8335\n",
      "Epoch 30/100\n",
      "84/84 [==============================] - 0s 863us/step - loss: 0.4271 - accuracy: 0.8462\n",
      "Epoch 31/100\n",
      "84/84 [==============================] - 0s 972us/step - loss: 0.4263 - accuracy: 0.8335\n",
      "Epoch 32/100\n",
      "84/84 [==============================] - 0s 860us/step - loss: 0.3872 - accuracy: 0.8488\n",
      "Epoch 33/100\n",
      "84/84 [==============================] - 0s 854us/step - loss: 0.4105 - accuracy: 0.8470\n",
      "Epoch 34/100\n",
      "84/84 [==============================] - 0s 863us/step - loss: 0.4572 - accuracy: 0.8365\n",
      "Epoch 35/100\n",
      "84/84 [==============================] - 0s 1ms/step - loss: 0.4652 - accuracy: 0.8451\n",
      "Epoch 36/100\n",
      "84/84 [==============================] - 0s 1ms/step - loss: 0.4272 - accuracy: 0.8398\n",
      "Epoch 37/100\n",
      "84/84 [==============================] - 0s 884us/step - loss: 0.3794 - accuracy: 0.8507\n",
      "Epoch 38/100\n",
      "84/84 [==============================] - 0s 1ms/step - loss: 0.4221 - accuracy: 0.8413\n",
      "Epoch 39/100\n",
      "84/84 [==============================] - 0s 1ms/step - loss: 0.4377 - accuracy: 0.8398\n",
      "Epoch 40/100\n",
      "84/84 [==============================] - 0s 974us/step - loss: 0.3776 - accuracy: 0.8481\n",
      "Epoch 41/100\n",
      "84/84 [==============================] - 0s 1ms/step - loss: 0.4292 - accuracy: 0.8380\n",
      "Epoch 42/100\n",
      "84/84 [==============================] - 0s 1ms/step - loss: 0.3996 - accuracy: 0.8447\n",
      "Epoch 43/100\n",
      "84/84 [==============================] - 0s 978us/step - loss: 0.3984 - accuracy: 0.8541\n",
      "Epoch 44/100\n",
      "84/84 [==============================] - 0s 1ms/step - loss: 0.4106 - accuracy: 0.8518\n",
      "Epoch 45/100\n",
      "84/84 [==============================] - 0s 986us/step - loss: 0.3767 - accuracy: 0.8481\n",
      "Epoch 46/100\n",
      "84/84 [==============================] - 0s 993us/step - loss: 0.3924 - accuracy: 0.8571\n",
      "Epoch 47/100\n",
      "84/84 [==============================] - 0s 989us/step - loss: 0.3967 - accuracy: 0.8515\n",
      "Epoch 48/100\n",
      "84/84 [==============================] - 0s 924us/step - loss: 0.3738 - accuracy: 0.8530\n",
      "Epoch 49/100\n",
      "84/84 [==============================] - 0s 882us/step - loss: 0.4290 - accuracy: 0.8447\n",
      "Epoch 50/100\n",
      "84/84 [==============================] - 0s 1ms/step - loss: 0.4109 - accuracy: 0.8376\n",
      "Epoch 51/100\n",
      "84/84 [==============================] - 0s 868us/step - loss: 0.4124 - accuracy: 0.8417\n",
      "Epoch 52/100\n",
      "84/84 [==============================] - 0s 1ms/step - loss: 0.3901 - accuracy: 0.8451\n",
      "Epoch 53/100\n",
      "84/84 [==============================] - 0s 1ms/step - loss: 0.3711 - accuracy: 0.8556\n",
      "Epoch 54/100\n",
      "84/84 [==============================] - 0s 1ms/step - loss: 0.3766 - accuracy: 0.8518\n",
      "Epoch 55/100\n",
      "84/84 [==============================] - 0s 1ms/step - loss: 0.4091 - accuracy: 0.8436\n",
      "Epoch 56/100\n",
      "84/84 [==============================] - 0s 1ms/step - loss: 0.4437 - accuracy: 0.8353\n",
      "Epoch 57/100\n",
      "84/84 [==============================] - 0s 1ms/step - loss: 0.4233 - accuracy: 0.8511\n",
      "Epoch 58/100\n",
      "84/84 [==============================] - 0s 961us/step - loss: 0.3641 - accuracy: 0.8601\n",
      "Epoch 59/100\n",
      "84/84 [==============================] - 0s 1ms/step - loss: 0.3741 - accuracy: 0.8590\n",
      "Epoch 60/100\n",
      "84/84 [==============================] - 0s 1ms/step - loss: 0.3628 - accuracy: 0.8605\n",
      "Epoch 61/100\n",
      "84/84 [==============================] - 0s 1ms/step - loss: 0.3444 - accuracy: 0.8638\n",
      "Epoch 62/100\n",
      "84/84 [==============================] - 0s 1ms/step - loss: 0.3494 - accuracy: 0.8672\n",
      "Epoch 63/100\n",
      "84/84 [==============================] - 0s 879us/step - loss: 0.3815 - accuracy: 0.8575\n",
      "Epoch 64/100\n",
      "84/84 [==============================] - 0s 913us/step - loss: 0.3461 - accuracy: 0.8683\n",
      "Epoch 65/100\n",
      "84/84 [==============================] - 0s 934us/step - loss: 0.4318 - accuracy: 0.8458\n",
      "Epoch 66/100\n",
      "84/84 [==============================] - 0s 1ms/step - loss: 0.3536 - accuracy: 0.8668\n",
      "Epoch 67/100\n",
      "84/84 [==============================] - 0s 1ms/step - loss: 0.3385 - accuracy: 0.8747\n",
      "Epoch 68/100\n",
      "84/84 [==============================] - 0s 840us/step - loss: 0.3552 - accuracy: 0.8668\n",
      "Epoch 69/100\n",
      "84/84 [==============================] - 0s 905us/step - loss: 0.3781 - accuracy: 0.8616\n",
      "Epoch 70/100\n",
      "84/84 [==============================] - 0s 1ms/step - loss: 0.3981 - accuracy: 0.8541\n",
      "Epoch 71/100\n",
      "84/84 [==============================] - 0s 850us/step - loss: 0.3459 - accuracy: 0.8706\n",
      "Epoch 72/100\n",
      "84/84 [==============================] - 0s 1ms/step - loss: 0.3660 - accuracy: 0.8605\n",
      "Epoch 73/100\n",
      "84/84 [==============================] - 0s 1ms/step - loss: 0.3225 - accuracy: 0.8807\n",
      "Epoch 74/100\n",
      "84/84 [==============================] - 0s 848us/step - loss: 0.3184 - accuracy: 0.8762\n",
      "Epoch 75/100\n",
      "84/84 [==============================] - 0s 967us/step - loss: 0.3297 - accuracy: 0.8687\n",
      "Epoch 76/100\n",
      "84/84 [==============================] - 0s 996us/step - loss: 0.3633 - accuracy: 0.8650\n",
      "Epoch 77/100\n",
      "84/84 [==============================] - 0s 919us/step - loss: 0.3309 - accuracy: 0.8792\n",
      "Epoch 78/100\n",
      "84/84 [==============================] - 0s 947us/step - loss: 0.4001 - accuracy: 0.8586\n",
      "Epoch 79/100\n",
      "84/84 [==============================] - 0s 1ms/step - loss: 0.3390 - accuracy: 0.8755\n",
      "Epoch 80/100\n",
      "84/84 [==============================] - 0s 970us/step - loss: 0.3297 - accuracy: 0.8815\n",
      "Epoch 81/100\n",
      "84/84 [==============================] - 0s 983us/step - loss: 0.3434 - accuracy: 0.8721\n",
      "Epoch 82/100\n",
      "84/84 [==============================] - 0s 868us/step - loss: 0.3254 - accuracy: 0.8773\n",
      "Epoch 83/100\n",
      "84/84 [==============================] - 0s 857us/step - loss: 0.3218 - accuracy: 0.8785\n",
      "Epoch 84/100\n",
      "84/84 [==============================] - 0s 907us/step - loss: 0.3537 - accuracy: 0.8665\n",
      "Epoch 85/100\n",
      "84/84 [==============================] - 0s 1ms/step - loss: 0.3543 - accuracy: 0.8676\n",
      "Epoch 86/100\n",
      "84/84 [==============================] - 0s 980us/step - loss: 0.3159 - accuracy: 0.8822\n",
      "Epoch 87/100\n",
      "84/84 [==============================] - 0s 988us/step - loss: 0.3265 - accuracy: 0.8773\n",
      "Epoch 88/100\n",
      "84/84 [==============================] - 0s 959us/step - loss: 0.3139 - accuracy: 0.8815\n",
      "Epoch 89/100\n",
      "84/84 [==============================] - 0s 902us/step - loss: 0.3728 - accuracy: 0.8713\n",
      "Epoch 90/100\n",
      "84/84 [==============================] - 0s 871us/step - loss: 0.3332 - accuracy: 0.8807\n",
      "Epoch 91/100\n",
      "84/84 [==============================] - 0s 979us/step - loss: 0.3514 - accuracy: 0.8721\n",
      "Epoch 92/100\n",
      "84/84 [==============================] - 0s 961us/step - loss: 0.3469 - accuracy: 0.8770\n",
      "Epoch 93/100\n",
      "84/84 [==============================] - 0s 934us/step - loss: 0.3346 - accuracy: 0.8732\n",
      "Epoch 94/100\n",
      "84/84 [==============================] - 0s 945us/step - loss: 0.3427 - accuracy: 0.8766\n",
      "Epoch 95/100\n",
      "84/84 [==============================] - 0s 966us/step - loss: 0.3408 - accuracy: 0.8785\n",
      "Epoch 96/100\n",
      "84/84 [==============================] - 0s 989us/step - loss: 0.3073 - accuracy: 0.8856\n",
      "Epoch 97/100\n",
      "84/84 [==============================] - 0s 951us/step - loss: 0.3142 - accuracy: 0.8837\n",
      "Epoch 98/100\n",
      "84/84 [==============================] - 0s 946us/step - loss: 0.3700 - accuracy: 0.8728\n",
      "Epoch 99/100\n",
      "84/84 [==============================] - 0s 955us/step - loss: 0.3569 - accuracy: 0.8732\n",
      "Epoch 100/100\n",
      "84/84 [==============================] - 0s 1ms/step - loss: 0.3764 - accuracy: 0.8728\n"
     ]
    },
    {
     "data": {
      "text/plain": [
       "<keras.src.callbacks.History at 0x219899e6ad0>"
      ]
     },
     "execution_count": 33,
     "metadata": {},
     "output_type": "execute_result"
    }
   ],
   "source": [
    "import tensorflow as tf\n",
    "from tensorflow import keras\n",
    "\n",
    "model = keras.Sequential([\n",
    "    keras.layers.Dense(20, input_shape=(18,), activation='relu'),\n",
    "    keras.layers.Dense(1, activation='sigmoid')\n",
    "])\n",
    "\n",
    "model.compile(optimizer='adam',\n",
    "              loss=\"binary_crossentropy\",\n",
    "              metrics=['accuracy'])\n",
    "\n",
    "X_train = np.asarray(X_train).astype(np.float32)\n",
    "y_train = np.asarray(y_train).astype(np.float32)\n",
    "\n",
    "model.fit(X_train, y_train, epochs=100)"
   ]
  },
  {
   "cell_type": "code",
   "execution_count": 34,
   "metadata": {},
   "outputs": [
    {
     "name": "stdout",
     "output_type": "stream",
     "text": [
      "21/21 [==============================] - 0s 856us/step - loss: 0.2661 - accuracy: 0.8891\n",
      "[0.2660980820655823, 0.8890554904937744]\n"
     ]
    }
   ],
   "source": [
    "X_test =np.asarray(X_test).astype(np.float32)\n",
    "y_test =np.asarray(y_test).astype(np.float32)\n",
    "\n",
    "print(model.evaluate(X_test, y_test))"
   ]
  },
  {
   "cell_type": "code",
   "execution_count": 35,
   "metadata": {},
   "outputs": [
    {
     "name": "stdout",
     "output_type": "stream",
     "text": [
      "21/21 [==============================] - 0s 1ms/step\n"
     ]
    },
    {
     "data": {
      "text/plain": [
       "array([[0.04852893],\n",
       "       [0.08177862],\n",
       "       [0.01260191],\n",
       "       [0.03052112],\n",
       "       [0.01560137]], dtype=float32)"
      ]
     },
     "execution_count": 35,
     "metadata": {},
     "output_type": "execute_result"
    }
   ],
   "source": [
    "yp = model.predict(X_test)\n",
    "yp[:5]"
   ]
  },
  {
   "cell_type": "code",
   "execution_count": 36,
   "metadata": {},
   "outputs": [
    {
     "data": {
      "text/plain": [
       "array([0., 0., 0., 0., 0., 1., 1., 1., 0., 0., 1., 0., 1., 0., 1., 0., 0.,\n",
       "       0., 0.], dtype=float32)"
      ]
     },
     "execution_count": 36,
     "metadata": {},
     "output_type": "execute_result"
    }
   ],
   "source": [
    "y_test[:19]"
   ]
  },
  {
   "cell_type": "code",
   "execution_count": 37,
   "metadata": {},
   "outputs": [],
   "source": [
    "y_pred = []\n",
    "for element in yp:\n",
    "    if element > 0.5:\n",
    "        y_pred.append(1)\n",
    "    else:\n",
    "        y_pred.append(0)"
   ]
  },
  {
   "cell_type": "code",
   "execution_count": 38,
   "metadata": {},
   "outputs": [
    {
     "data": {
      "text/plain": [
       "[0, 0, 0, 0, 0, 1, 1, 1, 0, 0]"
      ]
     },
     "execution_count": 38,
     "metadata": {},
     "output_type": "execute_result"
    }
   ],
   "source": [
    "y_pred[:10]"
   ]
  },
  {
   "cell_type": "code",
   "execution_count": 39,
   "metadata": {},
   "outputs": [
    {
     "name": "stdout",
     "output_type": "stream",
     "text": [
      "              precision    recall  f1-score   support\n",
      "\n",
      "         0.0       0.93      0.94      0.94       575\n",
      "         1.0       0.60      0.59      0.59        92\n",
      "\n",
      "    accuracy                           0.89       667\n",
      "   macro avg       0.77      0.76      0.76       667\n",
      "weighted avg       0.89      0.89      0.89       667\n",
      "\n"
     ]
    }
   ],
   "source": [
    "from sklearn.metrics import confusion_matrix, classification_report, f1_score\n",
    "\n",
    "print(classification_report(y_test, y_pred))"
   ]
  }
 ],
 "metadata": {
  "kernelspec": {
   "display_name": "Python 3",
   "language": "python",
   "name": "python3"
  },
  "language_info": {
   "codemirror_mode": {
    "name": "ipython",
    "version": 3
   },
   "file_extension": ".py",
   "mimetype": "text/x-python",
   "name": "python",
   "nbconvert_exporter": "python",
   "pygments_lexer": "ipython3",
   "version": "3.11.8"
  }
 },
 "nbformat": 4,
 "nbformat_minor": 2
}
